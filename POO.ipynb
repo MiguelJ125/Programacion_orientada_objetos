{
 "cells": [
  {
   "cell_type": "code",
   "execution_count": null,
   "metadata": {},
   "outputs": [],
   "source": [
    "class Persona:\n",
    "    # declaramos el metodo _init_\n",
    "    def _init_(self):\n",
    "        self.nombre=input(\"Ingrese el nombre: \")\n",
    "        self.edad=int(input(\"Ingrese la edad: \"))\n",
    "    # declaramos el metodo mostrar\n",
    "    def mostrar(self):\n",
    "        print(\"Nombre: \",self.nombre)\n",
    "        print(\"Edad: \",self.edad)\n",
    "# declaramos la clase empleado\n",
    "# la clase empleado hereda los atributos y metodos de la clase Persona\n",
    "class Empleado(Persona):\n",
    "    # declaramos el metodo _init_\n",
    "    def _init_(self):\n",
    "        # llamamos al metodo init de la clase padre\n",
    "        # utilizamos la funcion super() para hacer referencia al padre\n",
    "        super()._init_()\n",
    "        self.sueldo=float(input(\"Ingrese el sueldo: \"))\n",
    "    # declaramos el metodo mostrar\n",
    "    def mostrar(self):\n",
    "        super().mostrar()\n",
    "        print(\"Sueldo: \",self.sueldo)\n",
    "    # declaramos el metodo pagar_impuestos\n",
    "    # comprobara si el empleado debe pagar o no\n",
    "    def pagar_impuestos(self):\n",
    "        if self.sueldo > 3000:\n",
    "            print(\"El empleado debe pagar impuestos.\")\n",
    "        else:\n",
    "            print(\"El empleado no paga impuestos.\")\n",
    "# bloque principal\n",
    "persona1=Persona()\n",
    "persona1.mostrar()\n",
    "empleado1=Empleado()\n",
    "empleado1.mostrar()\n",
    "empleado1.pagar_impuestos()"
   ]
  },
  {
   "cell_type": "code",
   "execution_count": 8,
   "metadata": {},
   "outputs": [
    {
     "name": "stdout",
     "output_type": "stream",
     "text": [
      "Nombre:  Miguel\n",
      "Aprobado, nota:  8.0\n"
     ]
    }
   ],
   "source": [
    "class alumno:\n",
    "    def __init__(self):\n",
    "        self.nombre=input(\"Ingrese el nombre: \")\n",
    "        self.nota=float(input(\"Ingrese la nota: \"))\n",
    "    \n",
    "    def mostrar(self):\n",
    "        print(\"Nombre: \",self.nombre)\n",
    "        if self.nota >= 7:\n",
    "\n",
    "         print(\"Aprobado, nota: \",self.nota)\n",
    "        else: \n",
    "            print(\"Desaprobado\") \n",
    "\n",
    "alumno1 = alumno()\n",
    "alumno1.mostrar()"
   ]
  },
  {
   "cell_type": "code",
   "execution_count": 11,
   "metadata": {},
   "outputs": [
    {
     "name": "stdout",
     "output_type": "stream",
     "text": [
      "Nombre:  Miguel\n",
      "Menor de edad\n"
     ]
    }
   ],
   "source": [
    "class Persona:\n",
    "    def __init__(self):\n",
    "        self.nombre=input(\"Ingrese el nombre: \")\n",
    "        self.edad=int(input(\"Ingrese la edad: \"))\n",
    "    \n",
    "    def mostrar(self):\n",
    "        print(\"Nombre: \",self.nombre)\n",
    "        if self.edad >= 18:\n",
    "\n",
    "         print(\"Mayor de edad\")\n",
    "        else: \n",
    "            print(\"Menor de edad\") \n",
    "\n",
    "alumno1 = Persona()\n",
    "alumno1.mostrar()"
   ]
  },
  {
   "cell_type": "code",
   "execution_count": 2,
   "metadata": {},
   "outputs": [
    {
     "name": "stdout",
     "output_type": "stream",
     "text": [
      "Titular:  Miguel\n",
      "Cantidad:  1000\n",
      "Plazo:  12\n",
      "Interes:  18\n",
      "Monto interés 180.0\n"
     ]
    }
   ],
   "source": [
    "class Cuenta:\n",
    "    def __init__(self):\n",
    "        self.titular=input(\"Ingrese el nombre: \")\n",
    "        self.cantidad=int(input(\"Ingrese la cantidad: \"))\n",
    "\n",
    "    def mostrar(self):\n",
    "        print(\"Titular: \",self.titular)\n",
    "        print(\"Cantidad: \",self.cantidad)\n",
    "\n",
    "class cajaAhorro(Cuenta):\n",
    "    def heredarDatos(self):\n",
    "        super().__init__()\n",
    "\n",
    "    def mostrar(self):\n",
    "        super().mostrar()\n",
    "\n",
    "\n",
    "class plazoFijo(Cuenta):\n",
    "    def __init__(self):\n",
    "        super().__init__()\n",
    "        self.Plazo=input(\"Ingrese el Plazo: \")\n",
    "        self.interes=int(input(\"Ingrese el interés: \"))\n",
    "\n",
    "    def calc(self):\n",
    "        self.montoInteres= self.cantidad*self.interes/100\n",
    "\n",
    "    def mostrar(self):\n",
    "        super().mostrar()\n",
    "        print(\"Plazo: \", self.Plazo)\n",
    "        print(\"Interes: \", self.interes)\n",
    "        print(\"Monto interés\", self.montoInteres)\n",
    "\n",
    "a = plazoFijo()\n",
    "a.calc()\n",
    "a.mostrar()\n",
    "        \n"
   ]
  }
 ],
 "metadata": {
  "interpreter": {
   "hash": "aee8b7b246df8f9039afb4144a1f6fd8d2ca17a180786b69acc140d282b71a49"
  },
  "kernelspec": {
   "display_name": "Python 3.10.0 64-bit",
   "language": "python",
   "name": "python3"
  },
  "language_info": {
   "codemirror_mode": {
    "name": "ipython",
    "version": 3
   },
   "file_extension": ".py",
   "mimetype": "text/x-python",
   "name": "python",
   "nbconvert_exporter": "python",
   "pygments_lexer": "ipython3",
   "version": "3.10.0"
  },
  "orig_nbformat": 4
 },
 "nbformat": 4,
 "nbformat_minor": 2
}
